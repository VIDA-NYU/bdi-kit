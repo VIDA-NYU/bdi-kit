{
 "cells": [
  {
   "cell_type": "markdown",
   "metadata": {},
   "source": [
    "## Create map for ground truth data"
   ]
  },
  {
   "cell_type": "code",
   "execution_count": 2,
   "metadata": {},
   "outputs": [],
   "source": [
    "from tqdm import tqdm\n",
    "import pandas as pd\n",
    "import os"
   ]
  },
  {
   "cell_type": "code",
   "execution_count": 3,
   "metadata": {},
   "outputs": [],
   "source": [
    "gt_path = \"../../data/table-matching-ground-truth/ground-truth\"\n",
    "gt_map = pd.DataFrame(columns=['table_name', 'l_column_id', 'r_column_id'])\n",
    "rows = []\n",
    "\n",
    "for filename in os.listdir(gt_path):\n",
    "    table_name = os.path.splitext(filename)[0]\n",
    "    table = pd.read_csv(os.path.join(gt_path, filename))\n",
    "    for index, row in table.iterrows():\n",
    "        rows.append({'table_name': table_name, 'l_column_id': row['original_paper_variable_names'], 'r_column_id': row['GDC_format_variable_names']})"
   ]
  },
  {
   "cell_type": "code",
   "execution_count": 4,
   "metadata": {},
   "outputs": [],
   "source": [
    "gt_map = pd.concat([gt_map, pd.DataFrame(rows)], ignore_index=True)\n",
    "# gt_map.to_csv(\"../data/test.csv\", index=False)"
   ]
  },
  {
   "cell_type": "markdown",
   "metadata": {},
   "source": [
    "## Create gt tables"
   ]
  },
  {
   "cell_type": "code",
   "execution_count": 5,
   "metadata": {},
   "outputs": [
    {
     "name": "stderr",
     "output_type": "stream",
     "text": [
      "Annotating columns: 100%|██████████| 32/32 [00:00<00:00, 85.26it/s]\n",
      "Saving annotated tables: 100%|██████████| 10/10 [00:00<00:00, 753.46it/s]\n"
     ]
    }
   ],
   "source": [
    "input_dir = \"../../data/extracted-tables\"\n",
    "# create a dictionary of pandas dataframes\n",
    "tables = {}\n",
    "\n",
    "for filename in tqdm(os.listdir(input_dir), desc=\"Annotating columns\"):\n",
    "    if filename.endswith(\".csv\"):\n",
    "        file_path = os.path.join(input_dir, filename)\n",
    "        df = pd.read_csv(file_path)\n",
    "        table_name = filename.split(\"_\")[0]\n",
    "        if table_name not in tables:\n",
    "            tables[table_name] = pd.DataFrame()\n",
    "        for col_index, col_name in enumerate(df.columns):\n",
    "            if not gt_map[(gt_map['table_name'] == table_name) & (gt_map['l_column_id'] == col_name)].empty:\n",
    "                tables[table_name][col_name] = df[col_name]\n",
    "        \n",
    "# store each dataframe in tables dictionary as a csv file\n",
    "output_dir = \"../data/annotated-tables\"\n",
    "for table_name, table in tqdm(tables.items(), desc=\"Saving annotated tables\"):\n",
    "    table.to_csv(os.path.join(output_dir, table_name + \".csv\"), index=False)"
   ]
  },
  {
   "cell_type": "markdown",
   "metadata": {},
   "source": [
    "## Modify map for synthetic data"
   ]
  },
  {
   "cell_type": "code",
   "execution_count": 7,
   "metadata": {},
   "outputs": [],
   "source": [
    "synthetic_table = pd.read_csv(\"../data/train.csv\")\n",
    "# add two columns to the synthetic table, \"l_table_id\" and \"r_table_id\".\n",
    "# All values for 'l_table_id' will be \"gdc_table\", and all values for 'r_table_id' will be \"gdc_table_synthetic\".\n",
    "synthetic_table['l_table_id'] = \"gdc_table\"\n",
    "synthetic_table['r_table_id'] = \"gdc_table_synthetic\"\n",
    "synthetic_table.to_csv(\"../data/train.csv\", index=False)"
   ]
  }
 ],
 "metadata": {
  "kernelspec": {
   "display_name": "py38",
   "language": "python",
   "name": "python3"
  },
  "language_info": {
   "codemirror_mode": {
    "name": "ipython",
    "version": 3
   },
   "file_extension": ".py",
   "mimetype": "text/x-python",
   "name": "python",
   "nbconvert_exporter": "python",
   "pygments_lexer": "ipython3",
   "version": "3.10.13"
  }
 },
 "nbformat": 4,
 "nbformat_minor": 2
}
