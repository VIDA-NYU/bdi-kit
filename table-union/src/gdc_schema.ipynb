{
 "cells": [
  {
   "cell_type": "code",
   "execution_count": 8,
   "metadata": {},
   "outputs": [],
   "source": [
    "import sys\n",
    "sys.path.append('../')\n",
    "\n",
    "from gdc.gdc_api import GDCSchema"
   ]
  },
  {
   "cell_type": "code",
   "execution_count": 9,
   "metadata": {},
   "outputs": [],
   "source": [
    "gdc_schema = GDCSchema()"
   ]
  },
  {
   "cell_type": "code",
   "execution_count": 10,
   "metadata": {},
   "outputs": [],
   "source": [
    "import csv\n",
    "import json\n",
    "import os\n",
    "import random\n",
    "\n",
    "with open('../gdc/gdc_schema.json', 'r') as f:\n",
    "    schema_data = json.load(f)"
   ]
  },
  {
   "cell_type": "markdown",
   "metadata": {},
   "source": [
    "### Extract distinct GDC variable names"
   ]
  },
  {
   "cell_type": "code",
   "execution_count": 11,
   "metadata": {},
   "outputs": [],
   "source": [
    "def extract_properties(schema_data, sample_size=10):\n",
    "    properties_info = []\n",
    "    all_properties = {}\n",
    "    for schema_key, schema_value in schema_data.items():\n",
    "        if 'properties' in schema_value:\n",
    "            for prop, attributes in schema_value['properties'].items():\n",
    "                if prop not in all_properties:\n",
    "                    all_properties[prop] = {'types': set(), 'values': set()}\n",
    "                prop_type = attributes.get('type')\n",
    "                if prop_type:\n",
    "                    if isinstance(prop_type, list):\n",
    "                        all_properties[prop]['types'].update(prop_type)\n",
    "                    else:\n",
    "                        all_properties[prop]['types'].add(prop_type)\n",
    "                prop_values = attributes.get('enum')\n",
    "                if prop_values:\n",
    "                    all_properties[prop]['values'].update(prop_values)\n",
    "                elif 'oneOf' in attributes:\n",
    "                    for option in attributes['oneOf']:\n",
    "                        if 'enum' in option:\n",
    "                            all_properties[prop]['values'].update(option['enum'])\n",
    "\n",
    "    for prop in sorted(all_properties):\n",
    "        values = list(all_properties[prop]['values'])\n",
    "        if len(values) > sample_size:\n",
    "            values = random.sample(values, sample_size)\n",
    "        values = ', '.join(sorted(set(values))) \n",
    "\n",
    "        types = ', '.join(sorted(all_properties[prop]['types']))\n",
    "\n",
    "        properties_info.append({\n",
    "            'column name': prop,\n",
    "            'column type': types if types else 'Not specified',\n",
    "            'column values': values if values else 'Not specified'\n",
    "        })\n",
    "\n",
    "    return properties_info"
   ]
  },
  {
   "cell_type": "code",
   "execution_count": 23,
   "metadata": {},
   "outputs": [
    {
     "data": {
      "text/plain": [
       "[{'column name': 'a260_a280_ratio',\n",
       "  'column type': 'number',\n",
       "  'column values': 'Not specified'},\n",
       " {'column name': 'aa_change',\n",
       "  'column type': 'string',\n",
       "  'column values': 'Not specified'},\n",
       " {'column name': 'adapter_content',\n",
       "  'column type': 'Not specified',\n",
       "  'column values': 'FAIL, Not Reported, PASS, Unknown, WARN'},\n",
       " {'column name': 'adapter_name',\n",
       "  'column type': 'string',\n",
       "  'column values': 'Not specified'},\n",
       " {'column name': 'adapter_sequence',\n",
       "  'column type': 'string',\n",
       "  'column values': 'Not specified'}]"
      ]
     },
     "execution_count": 23,
     "metadata": {},
     "output_type": "execute_result"
    }
   ],
   "source": [
    "properties_info = extract_properties(schema_data)\n",
    "properties_info[:5]"
   ]
  },
  {
   "cell_type": "code",
   "execution_count": 13,
   "metadata": {},
   "outputs": [],
   "source": [
    "csv_file_path = 'gdc_schema_extracted.csv'\n",
    "with open(csv_file_path, mode='w', newline='') as file:\n",
    "    writer = csv.DictWriter(file, fieldnames=['column name', 'column type', 'column values'])\n",
    "    writer.writeheader()\n",
    "    for property_info in properties_info:\n",
    "        writer.writerow(property_info)"
   ]
  },
  {
   "cell_type": "markdown",
   "metadata": {},
   "source": [
    "### Missing values in ground truth"
   ]
  },
  {
   "cell_type": "code",
   "execution_count": 21,
   "metadata": {},
   "outputs": [
    {
     "name": "stdout",
     "output_type": "stream",
     "text": [
      "736\n",
      "45\n",
      "Missing GDC format variable names: {'case_submitter_id', 'Case_ID', 'can be inferred from tobacco_smoking_status'}\n"
     ]
    }
   ],
   "source": [
    "ground_truth_dir = '../data/table-matching-ground-truth/ground-truth'\n",
    "\n",
    "def read_gdc_format_variable_names(csv_path):\n",
    "    with open(csv_path, mode='r') as file:\n",
    "        reader = csv.DictReader(file)\n",
    "        return [row['GDC_format_variable_names'] for row in reader]\n",
    "\n",
    "extracted_variable_names = {row['column name'] for row in properties_info}\n",
    "print(len(extracted_variable_names))\n",
    "\n",
    "all_gdc_format_variable_names = set()\n",
    "\n",
    "for csv_file in os.listdir(ground_truth_dir):\n",
    "    if csv_file.endswith('.csv'):\n",
    "        csv_path = os.path.join(ground_truth_dir, csv_file)\n",
    "        gdc_names = read_gdc_format_variable_names(csv_path)\n",
    "        # separate the names by comma and add to the set\n",
    "        gdc_name_set = {name.strip() for names in gdc_names for name in names.split(';')}\n",
    "        all_gdc_format_variable_names.update(gdc_name_set)\n",
    "        \n",
    "print(len(all_gdc_format_variable_names))\n",
    "\n",
    "missing_names = all_gdc_format_variable_names - extracted_variable_names\n",
    "print('Missing GDC format variable names:', missing_names)\n"
   ]
  }
 ],
 "metadata": {
  "kernelspec": {
   "display_name": "py38",
   "language": "python",
   "name": "python3"
  },
  "language_info": {
   "codemirror_mode": {
    "name": "ipython",
    "version": 3
   },
   "file_extension": ".py",
   "mimetype": "text/x-python",
   "name": "python",
   "nbconvert_exporter": "python",
   "pygments_lexer": "ipython3",
   "version": "3.8.15"
  }
 },
 "nbformat": 4,
 "nbformat_minor": 2
}
