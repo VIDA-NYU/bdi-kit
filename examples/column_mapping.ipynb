{
 "cells": [
  {
   "cell_type": "markdown",
   "id": "b6a5938c-d32e-4816-ba31-a0b54e4a9826",
   "metadata": {},
   "source": [
    "# Data Integration with BDI"
   ]
  },
  {
   "cell_type": "code",
   "execution_count": 1,
   "id": "f01f77a6-f349-4f71-a847-c26b69a60c41",
   "metadata": {},
   "outputs": [
    {
     "name": "stderr",
     "output_type": "stream",
     "text": [
      "/Users/rlopez/opt/anaconda3/envs/askem/lib/python3.10/site-packages/tqdm/auto.py:21: TqdmWarning: IProgress not found. Please update jupyter and ipywidgets. See https://ipywidgets.readthedocs.io/en/stable/user_install.html\n",
      "  from .autonotebook import tqdm as notebook_tqdm\n"
     ]
    }
   ],
   "source": [
    "from bdi import APIManager"
   ]
  },
  {
   "cell_type": "markdown",
   "id": "fb0b6170-c8e5-4ff3-9948-a55acb913563",
   "metadata": {},
   "source": [
    "## Matching Cao dataset with MITRE prepared data"
   ]
  },
  {
   "cell_type": "code",
   "execution_count": 2,
   "id": "34e5d030-a50d-4076-9e96-7e4e73fe7cda",
   "metadata": {},
   "outputs": [
    {
     "data": {
      "text/plain": [
       "{'race': 'race',\n",
       " 'tumor_focality': 'tumor_focality',\n",
       " 'vital_status': 'vital_status',\n",
       " 'tumor_site': 'tumor_code',\n",
       " 'histology_diagnosis': 'primary_diagnosis',\n",
       " 'tumor_necrosis': 'tumor_grade',\n",
       " 'additional_pathologic_findings': 'ajcc_pathologic_n',\n",
       " 'tumor_stage_pathological': 'ajcc_pathologic_t',\n",
       " 'case_id': 'case_submitter_id',\n",
       " 'tumor_size_cm': 'tumor_largest_dimension_diameter',\n",
       " 'pathologic_staging_primary_tumor_pt': 'ajcc_pathologic_stage',\n",
       " 'Muscle_fraction': 'tissue_or_organ_of_origin',\n",
       " 'Islet_fraction': 'ethnicity',\n",
       " 'pathologic_staging_distant_metastasis_pm': 'age_at_diagnosis',\n",
       " 'residual_tumor': 'gender',\n",
       " 'tobacco_smoking_history': 'morphology',\n",
       " 'follow_up_days': 'study'}"
      ]
     },
     "execution_count": 2,
     "metadata": {},
     "output_type": "execute_result"
    }
   ],
   "source": [
    "manager = APIManager()\n",
    "global_table_path =  './datasets/target.csv'\n",
    "dataset_table_path =  './datasets/cao.csv'\n",
    "\n",
    "manager.load_global_table(global_table_path)\n",
    "dataset = manager.load_dataset(dataset_table_path)\n",
    "matches = manager.map_columns()\n",
    "matches"
   ]
  },
  {
   "cell_type": "markdown",
   "id": "6d4f458b-610e-4911-b386-53a8261f5188",
   "metadata": {},
   "source": [
    "## Matching Cao dataset with GDC data\n",
    "### GDC is the default GLOBAL Schema/Table "
   ]
  },
  {
   "cell_type": "code",
   "execution_count": 3,
   "id": "445405ab-782e-4168-a5b7-8044f0aeb45f",
   "metadata": {},
   "outputs": [
    {
     "data": {
      "text/plain": [
       "{'race': 'race',\n",
       " 'tumor_focality': 'tumor_focality',\n",
       " 'residual_tumor': 'residual_tumor',\n",
       " 'vital_status': 'vital_status',\n",
       " 'cause_of_death': 'cause_of_death',\n",
       " 'bmi': 'bmi',\n",
       " 'additional_pathologic_findings': 'additional_pathology_findings',\n",
       " 'tobacco_smoking_history': 'tobacco_smoking_status',\n",
       " 'tumor_site': 'tumor_shape',\n",
       " 'follow_up_days': 'follow_ups',\n",
       " 'perineural_invasion': 'perineural_invasion_present',\n",
       " 'tumor_size_cm': 'tumor_code_id',\n",
       " 'is_this_patient_lost_to_follow_up': 'days_to_lost_to_followup',\n",
       " 'histology_diagnosis': 'method_of_diagnosis',\n",
       " 'case_id': 'cases',\n",
       " 'tumor_necrosis': 'tumor_code',\n",
       " 'tumor_stage_pathological': 'ensat_pathologic_n',\n",
       " 'Muscle_fraction': 'concentration',\n",
       " 'alcohol_consumption': 'alcohol_history',\n",
       " 'Acinar_fraction': 'number_of_fractions',\n",
       " 'lymph_vascular_invasion': 'vascular_invasion_type',\n",
       " 'Stromal_fraction': 'chromosomal_translocation',\n",
       " 'number_of_lymph_nodes_examined': 'lymph_nodes_removed',\n",
       " 'number_of_lymph_nodes_positive_for_tumor': 'lymph_nodes_positive',\n",
       " 'age': 'name',\n",
       " 'clinical_staging_distant_metastasis_cm': 'enneking_msts_metastasis',\n",
       " 'participant_country': 'passage_count',\n",
       " 'medical_condition': 'chip_position',\n",
       " 'Fat_fraction': 'magnification',\n",
       " 'Islet_fraction': 'treatment_duration',\n",
       " 'tumor_included_for_the_study': 'tumor_grade_category',\n",
       " 'Inflammation_fraction': 'contamination',\n",
       " 'pathologic_staging_distant_metastasis_pm': 'ajcc_staging_system_edition',\n",
       " 'Non_neoplastic_duct': 'cog_neuroblastoma_risk_group',\n",
       " 'pathologic_staging_regional_lymph_nodes_pn': 'histologic_progression_type',\n",
       " 'normal_included_for_the_study': 'treatment_or_therapy',\n",
       " 'pathologic_staging_primary_tumor_pt': 'pathology_report_uuid',\n",
       " 'Neoplastic_cellularity': 'dysplasia_degree',\n",
       " 'sex': 'slides'}"
      ]
     },
     "execution_count": 3,
     "metadata": {},
     "output_type": "execute_result"
    }
   ],
   "source": [
    "manager = APIManager()\n",
    "dataset_table_path =  './datasets/cao.csv'\n",
    "dataset = manager.load_dataset(dataset_table_path)\n",
    "matches = manager.map_columns()\n",
    "matches"
   ]
  }
 ],
 "metadata": {
  "kernelspec": {
   "display_name": "Python 3 (ipykernel)",
   "language": "python",
   "name": "python3"
  },
  "language_info": {
   "codemirror_mode": {
    "name": "ipython",
    "version": 3
   },
   "file_extension": ".py",
   "mimetype": "text/x-python",
   "name": "python",
   "nbconvert_exporter": "python",
   "pygments_lexer": "ipython3",
   "version": "3.10.13"
  }
 },
 "nbformat": 4,
 "nbformat_minor": 5
}
