{
 "cells": [
  {
   "cell_type": "markdown",
   "id": "b6a5938c-d32e-4816-ba31-a0b54e4a9826",
   "metadata": {},
   "source": [
    "# Data Integration with BDI"
   ]
  },
  {
   "cell_type": "code",
   "execution_count": 13,
   "id": "f01f77a6-f349-4f71-a847-c26b69a60c41",
   "metadata": {},
   "outputs": [],
   "source": [
    "from bdi import APIManager"
   ]
  },
  {
   "cell_type": "markdown",
   "id": "fb0b6170-c8e5-4ff3-9948-a55acb913563",
   "metadata": {},
   "source": [
    "## Matching Cao dataset with MITRE prepared data"
   ]
  },
  {
   "cell_type": "code",
   "execution_count": 15,
   "id": "34e5d030-a50d-4076-9e96-7e4e73fe7cda",
   "metadata": {},
   "outputs": [
    {
     "data": {
      "text/plain": [
       "{'race': 'race',\n",
       " 'tumor_focality': 'tumor_focality',\n",
       " 'vital_status': 'vital_status',\n",
       " 'tumor_site': 'tumor_code',\n",
       " 'histology_diagnosis': 'primary_diagnosis',\n",
       " 'tumor_necrosis': 'tumor_grade',\n",
       " 'additional_pathologic_findings': 'ajcc_pathologic_n',\n",
       " 'tumor_stage_pathological': 'ajcc_pathologic_t',\n",
       " 'case_id': 'case_submitter_id',\n",
       " 'tumor_size_cm': 'tumor_largest_dimension_diameter',\n",
       " 'pathologic_staging_primary_tumor_pt': 'ajcc_pathologic_stage',\n",
       " 'Muscle_fraction': 'tissue_or_organ_of_origin',\n",
       " 'Islet_fraction': 'ethnicity',\n",
       " 'pathologic_staging_distant_metastasis_pm': 'age_at_diagnosis',\n",
       " 'residual_tumor': 'gender',\n",
       " 'tobacco_smoking_history': 'morphology',\n",
       " 'follow_up_days': 'study'}"
      ]
     },
     "execution_count": 15,
     "metadata": {},
     "output_type": "execute_result"
    }
   ],
   "source": [
    "manager = APIManager()\n",
    "global_table_path =  './datasets/target.csv'\n",
    "dataset_table_path =  './datasets/cao.csv'\n",
    "\n",
    "manager.load_global_table(global_table_path)\n",
    "dataset = manager.load_dataset(dataset_table_path)\n",
    "matches = manager.map_columns()\n",
    "matches"
   ]
  },
  {
   "cell_type": "markdown",
   "id": "6d4f458b-610e-4911-b386-53a8261f5188",
   "metadata": {},
   "source": [
    "## Matching Cao dataset with GDC data\n",
    "### GDC is the default GLOBAL Schema/Table "
   ]
  },
  {
   "cell_type": "code",
   "execution_count": 16,
   "id": "445405ab-782e-4168-a5b7-8044f0aeb45f",
   "metadata": {},
   "outputs": [
    {
     "data": {
      "text/plain": [
       "{'race': 'race',\n",
       " 'tumor_focality': 'tumor_focality',\n",
       " 'vital_status': 'vital_status',\n",
       " 'tumor_site': 'tumor_code',\n",
       " 'histology_diagnosis': 'primary_diagnosis',\n",
       " 'tumor_necrosis': 'tumor_grade',\n",
       " 'additional_pathologic_findings': 'ajcc_pathologic_n',\n",
       " 'tumor_stage_pathological': 'ajcc_pathologic_t',\n",
       " 'case_id': 'case_submitter_id',\n",
       " 'tumor_size_cm': 'tumor_largest_dimension_diameter',\n",
       " 'pathologic_staging_primary_tumor_pt': 'ajcc_pathologic_stage',\n",
       " 'Muscle_fraction': 'tissue_or_organ_of_origin',\n",
       " 'Islet_fraction': 'ethnicity',\n",
       " 'pathologic_staging_distant_metastasis_pm': 'age_at_diagnosis',\n",
       " 'residual_tumor': 'gender',\n",
       " 'tobacco_smoking_history': 'morphology',\n",
       " 'follow_up_days': 'study'}"
      ]
     },
     "execution_count": 16,
     "metadata": {},
     "output_type": "execute_result"
    }
   ],
   "source": [
    "manager = APIManager()\n",
    "dataset_table_path =  './datasets/cao.csv'\n",
    "dataset = manager.load_dataset(dataset_table_path)\n",
    "matches = manager.map_columns()\n",
    "matches"
   ]
  }
 ],
 "metadata": {
  "kernelspec": {
   "display_name": "Python 3 (ipykernel)",
   "language": "python",
   "name": "python3"
  },
  "language_info": {
   "codemirror_mode": {
    "name": "ipython",
    "version": 3
   },
   "file_extension": ".py",
   "mimetype": "text/x-python",
   "name": "python",
   "nbconvert_exporter": "python",
   "pygments_lexer": "ipython3",
   "version": "3.12.2"
  }
 },
 "nbformat": 4,
 "nbformat_minor": 5
}
