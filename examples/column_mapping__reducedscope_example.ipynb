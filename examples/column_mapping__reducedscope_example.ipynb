{
 "cells": [
  {
   "cell_type": "markdown",
   "id": "b6a5938c-d32e-4816-ba31-a0b54e4a9826",
   "metadata": {},
   "source": [
    "# Data Integration with BDI"
   ]
  },
  {
   "cell_type": "code",
   "execution_count": 5,
   "id": "f01f77a6-f349-4f71-a847-c26b69a60c41",
   "metadata": {},
   "outputs": [],
   "source": [
    "from bdi import APIManager\n",
    "import json"
   ]
  },
  {
   "cell_type": "markdown",
   "id": "6d4f458b-610e-4911-b386-53a8261f5188",
   "metadata": {},
   "source": [
    "## Matching Cao dataset with GDC data\n",
    "### Using scope reduction based on Starmie Approach\n",
    "### GDC is the default GLOBAL Schema/Table \n"
   ]
  },
  {
   "cell_type": "code",
   "execution_count": 6,
   "id": "8649ce43",
   "metadata": {},
   "outputs": [
    {
     "name": "stdout",
     "output_type": "stream",
     "text": [
      "{'race': 'race', 'tumor_focality': 'tumor_focality', 'residual_tumor': 'residual_tumor', 'vital_status': 'vital_status', 'cause_of_death': 'cause_of_death', 'bmi': 'bmi', 'additional_pathologic_findings': 'additional_pathology_findings', 'tobacco_smoking_history': 'tobacco_smoking_status', 'tumor_site': 'tumor_shape', 'follow_up_days': 'follow_ups', 'perineural_invasion': 'perineural_invasion_present', 'tumor_size_cm': 'tumor_code_id', 'is_this_patient_lost_to_follow_up': 'days_to_lost_to_followup', 'histology_diagnosis': 'method_of_diagnosis', 'case_id': 'cases', 'tumor_necrosis': 'tumor_code', 'tumor_stage_pathological': 'ensat_pathologic_n', 'Muscle_fraction': 'concentration', 'alcohol_consumption': 'alcohol_history', 'Acinar_fraction': 'number_of_fractions', 'lymph_vascular_invasion': 'vascular_invasion_type', 'Stromal_fraction': 'chromosomal_translocation', 'number_of_lymph_nodes_examined': 'lymph_nodes_removed', 'number_of_lymph_nodes_positive_for_tumor': 'lymph_nodes_positive', 'age': 'name', 'clinical_staging_distant_metastasis_cm': 'enneking_msts_metastasis', 'participant_country': 'passage_count', 'medical_condition': 'chip_position', 'Fat_fraction': 'magnification', 'Islet_fraction': 'treatment_duration', 'tumor_included_for_the_study': 'tumor_grade_category', 'Inflammation_fraction': 'contamination', 'pathologic_staging_distant_metastasis_pm': 'ajcc_staging_system_edition', 'Non_neoplastic_duct': 'cog_neuroblastoma_risk_group', 'pathologic_staging_regional_lymph_nodes_pn': 'histologic_progression_type', 'normal_included_for_the_study': 'treatment_or_therapy', 'pathologic_staging_primary_tumor_pt': 'pathology_report_uuid', 'Neoplastic_cellularity': 'dysplasia_degree', 'sex': 'slides'}\n"
     ]
    }
   ],
   "source": [
    "dataset_path =  '../bdi/resource/cao.csv'\n",
    "json_file_path = '../bdi/resource/cao_recommendations.json'\n",
    "\n",
    "api = APIManager()\n",
    "dataset = api.load_dataset(dataset_path)\n",
    "\n",
    "with open(json_file_path, 'r') as json_file:\n",
    "    data = json.load(json_file)\n",
    "api.column_manager.reduced_scope = data # coment this line to run the code without the reduced scope\n",
    "\n",
    "maps = api.map_columns()\n",
    "print(maps)"
   ]
  }
 ],
 "metadata": {
  "kernelspec": {
   "display_name": "Python 3 (ipykernel)",
   "language": "python",
   "name": "python3"
  },
  "language_info": {
   "codemirror_mode": {
    "name": "ipython",
    "version": 3
   },
   "file_extension": ".py",
   "mimetype": "text/x-python",
   "name": "python",
   "nbconvert_exporter": "python",
   "pygments_lexer": "ipython3",
   "version": "3.12.2"
  }
 },
 "nbformat": 4,
 "nbformat_minor": 5
}
