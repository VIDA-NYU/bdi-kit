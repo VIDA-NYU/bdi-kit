{
 "cells": [
  {
   "cell_type": "code",
   "execution_count": 1,
   "metadata": {},
   "outputs": [],
   "source": [
    "import glob\n",
    "import pandas as pd\n",
    "\n",
    "\n",
    "\n",
    "\n"
   ]
  },
  {
   "cell_type": "code",
   "execution_count": 8,
   "metadata": {},
   "outputs": [
    {
     "name": "stdout",
     "output_type": "stream",
     "text": [
      "9\n",
      "134\n"
     ]
    }
   ],
   "source": [
    "# Get a list of all CSV files in the \"ground-truth\" folder\n",
    "csv_files = glob.glob('ground-truth/*.csv')\n",
    "# Read each CSV file as a dataframe\n",
    "dataframes = []\n",
    "n_rows = 0\n",
    "for file in csv_files:\n",
    "    df = pd.read_csv(file)\n",
    "    # dataframes.append(df)\n",
    "    # print(df.shape)\n",
    "    n_rows += df.shape[0]\n",
    "print(len(csv_files))\n",
    "print(n_rows)"
   ]
  },
  {
   "cell_type": "code",
   "execution_count": 7,
   "metadata": {},
   "outputs": [
    {
     "name": "stdout",
     "output_type": "stream",
     "text": [
      "Files: 32\n",
      "Rows: 41705\n",
      "Cols: 1063\n"
     ]
    }
   ],
   "source": [
    "# Get a list of all CSV files in the \"ground-truth\" folder\n",
    "csv_files = glob.glob('../extracted-tables/*.csv')\n",
    "# Read each CSV file as a dataframe\n",
    "dataframes = []\n",
    "n_cols = 0\n",
    "n_rows = 0 \n",
    "for file in csv_files:\n",
    "    df = pd.read_csv(file)\n",
    "    n_cols += df.shape[1]\n",
    "    n_rows += df.shape[0]\n",
    "    # dataframes.append(df)\n",
    "    # print(df.shape)\n",
    "# print(len(dataframes))\n",
    "\n",
    "n_sheets = len(csv_files)\n",
    "print(f'Files: {n_sheets}')\n",
    "print(f'Rows: {n_rows}')\n",
    "print(f'Cols: {n_cols}')"
   ]
  },
  {
   "cell_type": "code",
   "execution_count": null,
   "metadata": {},
   "outputs": [],
   "source": []
  }
 ],
 "metadata": {
  "kernelspec": {
   "display_name": "arpah",
   "language": "python",
   "name": "python3"
  },
  "language_info": {
   "codemirror_mode": {
    "name": "ipython",
    "version": 3
   },
   "file_extension": ".py",
   "mimetype": "text/x-python",
   "name": "python",
   "nbconvert_exporter": "python",
   "pygments_lexer": "ipython3",
   "version": "3.12.2"
  }
 },
 "nbformat": 4,
 "nbformat_minor": 2
}
