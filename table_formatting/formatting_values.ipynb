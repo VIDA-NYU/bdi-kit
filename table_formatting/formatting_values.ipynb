{
 "cells": [
  {
   "cell_type": "code",
   "execution_count": 50,
   "metadata": {},
   "outputs": [],
   "source": [
    "import pandas as pd\n",
    "import seaborn as sns\n",
    "import sys\n",
    "import os\n",
    "from ipydatagrid import DataGrid\n",
    "\n",
    "sys.path.append(os.path.join(os.path.abspath(''), '..'))\n",
    "import utils.file_utils as ut\n",
    "from gdc.gdc_api import GDCSchema\n",
    "\n",
    "\n"
   ]
  },
  {
   "cell_type": "code",
   "execution_count": 51,
   "metadata": {},
   "outputs": [
    {
     "data": {
      "text/plain": [
       "array(['pT1a (FIGO IA)', nan, 'pT3a (FIGO IIIA)', 'pT1 (FIGO I)',\n",
       "       'pT1b (FIGO IB)', 'pT2 (FIGO II)', 'pT3b (FIGO IIIB)'],\n",
       "      dtype=object)"
      ]
     },
     "execution_count": 51,
     "metadata": {},
     "output_type": "execute_result"
    }
   ],
   "source": [
    "df_dou = pd.read_csv('../data/extracted-tables/Dou_UCEC_CPTAC3_meta_table_V2.1.csv')\n",
    "df_dou.head(5)\n",
    "\n",
    "df_dou['Path_Stage_Primary_Tumor-pT'].unique()"
   ]
  },
  {
   "cell_type": "code",
   "execution_count": 52,
   "metadata": {},
   "outputs": [
    {
     "data": {
      "text/plain": [
       "[('Proteomics_Participant_ID', 'case_submitter_id'),\n",
       " ('Country', 'country_of_residence_at_enrollment'),\n",
       " ('Histologic_Grade_FIGO', 'tumor_grade'),\n",
       " ('Histologic_type', 'primary_diagnosis'),\n",
       " ('Path_Stage_Primary_Tumor-pT', 'ajcc_pathologic_t'),\n",
       " ('Path_Stage_Reg_Lymph_Nodes-pN', 'ajcc_pathologic_n'),\n",
       " ('Clin_Stage_Dist_Mets-cM', 'ajcc_clinical_m'),\n",
       " ('Path_Stage_Dist_Mets-pM', 'ajcc_pathologic_m'),\n",
       " ('tumor_Stage-Pathological', 'ajcc_pathologic_stage'),\n",
       " ('FIGO_stage', 'figo_stage'),\n",
       " ('BMI', 'bmi'),\n",
       " ('Age', 'age_at_diagnosis'),\n",
       " ('Race', 'race'),\n",
       " ('Ethnicity', 'ethnicity'),\n",
       " ('Gender', 'gender'),\n",
       " ('Tumor_Site', 'tissue_or_organ_of_origin'),\n",
       " ('Tumor_Focality', 'tumor_focality'),\n",
       " ('Tumor_Size_cm', 'tumor_largest_dimension_diameter')]"
      ]
     },
     "execution_count": 52,
     "metadata": {},
     "output_type": "execute_result"
    }
   ],
   "source": [
    "groundtruth_path = '../data/table-matching-ground-truth/ground-truth/Dou.csv'\n",
    "groundtruth_col_pairs = ut.load_table_matching_groundtruth(groundtruth_path)\n",
    "groundtruth_col_pairs"
   ]
  },
  {
   "cell_type": "code",
   "execution_count": 53,
   "metadata": {},
   "outputs": [],
   "source": [
    "dou_values = list(df_dou['Path_Stage_Primary_Tumor-pT'].unique())\n",
    "\n",
    "gdc = GDCSchema('ajcc_pathologic_t', 'diagnosis')\n",
    "gdc_values  = sorted(list(gdc.get_properties_by_gdc_candidate('diagnosis::ajcc_pathologic_t')['enum']))\n",
    "\n"
   ]
  },
  {
   "cell_type": "code",
   "execution_count": 54,
   "metadata": {},
   "outputs": [
    {
     "name": "stdout",
     "output_type": "stream",
     "text": [
      "          dou_values              gdc_values\n",
      "0     pT1a (FIGO IA)  Not Allowed To Collect\n",
      "1                NaN            Not Reported\n",
      "2   pT3a (FIGO IIIA)                      T0\n",
      "3       pT1 (FIGO I)                      T1\n",
      "4     pT1b (FIGO IB)                     T1a\n",
      "5      pT2 (FIGO II)                    T1a1\n",
      "6   pT3b (FIGO IIIB)                    T1a2\n",
      "7                                        T1b\n",
      "8                                       T1b1\n",
      "9                                       T1b2\n",
      "10                                       T1c\n",
      "11                                      T1c2\n",
      "12                                      T1mi\n",
      "13                                        T2\n",
      "14                                       T2a\n",
      "15                                      T2a1\n",
      "16                                      T2a2\n",
      "17                                       T2b\n",
      "18                                       T2c\n",
      "19                                       T2d\n",
      "20                                        T3\n",
      "21                                       T3a\n",
      "22                                       T3b\n",
      "23                                       T3c\n",
      "24                                       T3d\n",
      "25                                        T4\n",
      "26                                       T4a\n",
      "27                                       T4b\n",
      "28                                       T4c\n",
      "29                                       T4d\n",
      "30                                       T4e\n",
      "31                                        TX\n",
      "32                                        Ta\n",
      "33                                       Tis\n",
      "34                                Tis (DCIS)\n",
      "35                                Tis (LCIS)\n",
      "36                             Tis (Paget's)\n",
      "37                                   Unknown\n"
     ]
    }
   ],
   "source": [
    "longest = max(len(dou_values), len(gdc_values))\n",
    "dou_values = dou_values + [''] * (longest - len(dou_values))\n",
    "gdc_values = gdc_values + [''] * (longest - len(gdc_values))\n",
    "\n",
    "\n",
    "df = pd.DataFrame({'dou_values': dou_values, 'gdc_values': gdc_values})\n",
    "\n",
    "# Print the dataframe\n",
    "print(df)\n"
   ]
  },
  {
   "cell_type": "code",
   "execution_count": 55,
   "metadata": {},
   "outputs": [
    {
     "data": {
      "application/vnd.jupyter.widget-view+json": {
       "model_id": "4a64856ab71b4955b884f1225998759b",
       "version_major": 2,
       "version_minor": 0
      },
      "text/plain": [
       "DataGrid(auto_fit_params={'area': 'all', 'padding': 30, 'numCols': None}, corner_renderer=None, default_render…"
      ]
     },
     "execution_count": 55,
     "metadata": {},
     "output_type": "execute_result"
    }
   ],
   "source": [
    "\n",
    "datagrid = DataGrid(df, selection_mode=\"cell\")\n",
    "datagrid"
   ]
  },
  {
   "cell_type": "code",
   "execution_count": null,
   "metadata": {},
   "outputs": [],
   "source": []
  }
 ],
 "metadata": {
  "kernelspec": {
   "display_name": "arpah",
   "language": "python",
   "name": "python3"
  },
  "language_info": {
   "codemirror_mode": {
    "name": "ipython",
    "version": 3
   },
   "file_extension": ".py",
   "mimetype": "text/x-python",
   "name": "python",
   "nbconvert_exporter": "python",
   "pygments_lexer": "ipython3",
   "version": "3.12.2"
  }
 },
 "nbformat": 4,
 "nbformat_minor": 2
}
