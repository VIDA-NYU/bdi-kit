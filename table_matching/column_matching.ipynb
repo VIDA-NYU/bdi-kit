{
 "cells": [
  {
   "cell_type": "code",
   "execution_count": 1,
   "metadata": {},
   "outputs": [],
   "source": [
    "import sys\n",
    "import os\n",
    "import os\n",
    "import pandas as pd\n",
    "import sys\n",
    "sys.path.append('..')\n",
    "import utils.file_utils as ut\n",
    "\n",
    "ground_truth_path = os.path.join( '..', 'data','table-matching-ground-truth', 'ground-truth')"
   ]
  },
  {
   "cell_type": "code",
   "execution_count": 4,
   "metadata": {},
   "outputs": [
    {
     "name": "stdout",
     "output_type": "stream",
     "text": [
      "Krug\n",
      "[('Tumor.Stage', 'ajcc_pathologic_stage'), ('Age.in.Month', 'age_at_diagnosis'), ('Gender', 'gender'), ('Ethnicity', 'ethnicity')]\n",
      "\n",
      "Clark\n",
      "[('Case_ID', 'case_submitter_id'), ('Tumor/Normal', 'tissue_type'), ('Gender', 'gender'), ('Age', 'age_at_diagnosis'), ('BMI', 'bmi'), ('Race', 'race'), ('Ethnicity_Self_Identify', 'ethnicity'), ('Tumor_Site', 'site_of_resection_or_biopsy;tissue_or_organ_of_origin'), ('Tumor_Size_cm', 'tumor_largest_dimension_diameter'), ('Tumor_Focality', 'tumor_focality'), ('Histologic_Type', 'primary_diagnosis'), ('Grade', 'tumor_grade'), ('Tumor_Stage_Pathological', 'ajcc_pathologic_stage'), ('Path_Stage_Primary_Tumor_pT', 'ajcc_pathologic_t'), ('Path_Stage_Reg_Lymph_Nodes_pN', 'ajcc_pathologic_n')]\n",
      "\n",
      "Vasaikar\n",
      "[('SampleID', 'Case_ID'), ('Age', 'age_at_diagnosis'), ('Gender', 'gender'), ('PT', 'ajcc_pathologic_t'), ('PN', 'ajcc_pathologic_n'), ('Stage', 'ajcc_pathologic_stage'), ('Vascular_Invasion', 'vascular_invasion_present'), ('Lymphatic_Invasion', 'lymphatic_invasion_present'), ('Perineural_Invasion', 'perineural_invasion_present'), ('Synchronous_Tumors', 'synchronous_malignancy'), ('Vital.Status', 'vital_status'), ('Tumor.Status', 'last_known_disease_status')]\n",
      "\n",
      "Gillette\n",
      "[('Participant', 'case_submitter_id'), ('Type', 'tissue_type'), ('Smoking.Status', 'can be inferred from tobacco_smoking_status'), ('Age', 'age_at_diagnosis'), ('Gender', 'gender'), ('Ethnicity', 'ethnicity'), ('Height.cm', 'height'), ('Weight.kg', 'weight'), ('BMI', 'bmi'), ('Cigarettes.per.Day', 'cigarettes_per_day'), ('Pack.Years.Smoked', 'pack_years_smoked'), ('Smoking.History', 'tobacco_smoking_status'), ('Secondhand.Smoke', 'secondhand_smoke_as_child'), ('Dominant.Histological.Subtype', 'primary_diagnosis')]\n",
      "\n",
      "Wang\n",
      "[('case_id', 'case_submitter_id'), ('age', 'age_at_diagnosis'), ('gender', 'gender'), ('height', 'height'), ('weight', 'weight'), ('bmi', 'bmi'), ('country_of_origin', 'country_of_residence_at_enrollment'), ('race', 'race'), ('ethnicity', 'ethnicity'), ('smoking_history', 'tobacco_smoking_status'), ('secondhand_smoke_exposure', 'secondhand_smoke_as_child'), ('tumor_laterality', 'biospecimen_laterality'), ('tumor_site_curated', 'site_of_resection_or_biopsy;tissue_or_organ_of_origin'), ('vital_status', 'vital_status'), ('path_diag_to_last_contact_days', 'days_to_last_follow_up'), ('path_diag_to_death_days', 'days_to_death'), ('cause_of_death', 'cause_of_death'), ('tumor_reoccur_after_treatment', 'progression_or_recurrence'), ('path_diag_to_tumor_reoccur_days', 'days_to_recurrence')]\n",
      "\n",
      "Satpathy\n",
      "[('Participant', 'case_submitter_id'), ('Type', 'tissue_type'), ('Smoking.History', 'tobacco_smoking_status'), ('Stage', 'ajcc_pathologic_stage'), ('Country.of.Origin', 'country_of_residence_at_enrollment'), ('Age', 'age_at_diagnosis'), ('Gender', 'gender'), ('Ethnicity', 'ethnicity'), ('Cigarettes.per.Day', 'cigarettes_per_day'), ('Pack.Years.Smoked', 'pack_years_smoked'), ('Secondhand.Smoke', 'secondhand_smoke_as_child')]\n",
      "\n",
      "Cao\n",
      "[('case_id', 'case_submitter_id'), ('age', 'age_at_diagnosis'), ('sex', 'gender'), ('race', 'race'), ('participant_country', 'country_of_residence_at_enrollment'), ('tumor_site', 'site_of_resection_or_biopsy; tissue_or_organ_of_origin'), ('tumor_focality', 'tumor_focality'), ('tumor_size_cm', 'tumor_largest_dimension_diameter'), ('lymph_vascular_invasion', 'vascular_invasion_present; lymphatic_invasion_present'), ('perineural_invasion', 'perineural_invasion_present'), ('number_of_lymph_nodes_positive_for_tumor', 'lymph_nodes_positive'), ('pathologic_staging_regional_lymph_nodes_pn', 'ajcc_pathologic_n'), ('pathologic_staging_primary_tumor_pt', 'ajcc_pathologic_t'), ('pathologic_staging_distant_metastasis_pm', 'ajcc_pathologic_m'), ('clinical_staging_distant_metastasis_cm', 'ajcc_clinical_m'), ('residual_tumor', 'residual_disease'), ('tumor_stage_pathological', 'ajcc_pathologic_stage'), ('bmi', 'bmi'), ('alcohol_consumption', 'alcohol_intensity'), ('tobacco_smoking_history', 'tobacco_smoking_status'), ('vital_status', 'vital_status'), ('cause_of_death', 'cause_of_death')]\n",
      "\n",
      "Huang\n",
      "[('case_id', 'case_submitter_id'), ('age', 'age_at_diagnosis'), ('gender', 'gender'), ('country', 'country_of_residence_at_enrollment'), ('smoking_history', 'tobacco_smoking_status'), ('smoke_age_start', 'tobacco_smoking_onset_year'), ('smoke_age_stop', 'tobacco_smoking_quit_year'), ('num_smoke_per_day', 'pack_years_smoked'), ('smoking_second_hand', 'secondhand_smoke_as_child'), ('alcohol_consum', 'alcohol_intensity'), ('tumor_site_original', 'site_of_resection_or_biopsy; tissue_or_organ_of_origin'), ('tumor_focality', 'tumor_focality'), ('tumor_size_cm', 'tumor_largest_dimension_diameter'), ('histologic_type', 'primary_diagnosis'), ('histologic_grade', 'tumor_grade'), ('patho_staging_pt', 'ajcc_pathologic_t'), ('patho_staging_pn', 'ajcc_pathologic_n'), ('clinic_staging_dist_metas', 'ajcc_clinical_m'), ('tumor_stage', 'ajcc_pathologic_stage')]\n",
      "\n",
      "Dou\n",
      "[('Proteomics_Participant_ID', 'case_submitter_id'), ('Country', 'country_of_residence_at_enrollment'), ('Histologic_Grade_FIGO', 'tumor_grade'), ('Histologic_type', 'primary_diagnosis'), ('Path_Stage_Primary_Tumor-pT', 'ajcc_pathologic_t'), ('Path_Stage_Reg_Lymph_Nodes-pN', 'ajcc_pathologic_n'), ('Clin_Stage_Dist_Mets-cM', 'ajcc_clinical_m'), ('Path_Stage_Dist_Mets-pM', 'ajcc_pathologic_m'), ('tumor_Stage-Pathological', 'ajcc_pathologic_stage'), ('FIGO_stage', 'figo_stage'), ('BMI', 'bmi'), ('Age', 'age_at_diagnosis'), ('Race', 'race'), ('Ethnicity', 'ethnicity'), ('Gender', 'gender'), ('Tumor_Site', 'tissue_or_organ_of_origin'), ('Tumor_Focality', 'tumor_focality'), ('Tumor_Size_cm', 'tumor_largest_dimension_diameter')]\n",
      "\n"
     ]
    }
   ],
   "source": [
    "for file in os.listdir(ground_truth_path):\n",
    "    study = file.split('.csv')[0]\n",
    "    file_path = os.path.join(ground_truth_path, file)\n",
    "    gt = ut.load_table_matching_groundtruth(file_path)\n",
    "\n",
    "   "
   ]
  }
 ],
 "metadata": {
  "kernelspec": {
   "display_name": "arpah",
   "language": "python",
   "name": "python3"
  },
  "language_info": {
   "codemirror_mode": {
    "name": "ipython",
    "version": 3
   },
   "file_extension": ".py",
   "mimetype": "text/x-python",
   "name": "python",
   "nbconvert_exporter": "python",
   "pygments_lexer": "ipython3",
   "version": "3.12.2"
  }
 },
 "nbformat": 4,
 "nbformat_minor": 2
}
