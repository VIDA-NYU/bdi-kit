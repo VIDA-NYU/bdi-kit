{
 "cells": [
  {
   "cell_type": "markdown",
   "id": "3b03e371-7aed-4d0c-b45c-4a496185fe4e",
   "metadata": {},
   "source": [
    "## Statistics for Value Mappings"
   ]
  },
  {
   "cell_type": "code",
   "execution_count": 1,
   "id": "0e4babcd-2813-479b-8869-24588fb034e5",
   "metadata": {},
   "outputs": [
    {
     "name": "stderr",
     "output_type": "stream",
     "text": [
      "/Users/rlopez/opt/anaconda3/envs/askem/lib/python3.10/site-packages/tqdm/auto.py:21: TqdmWarning: IProgress not found. Please update jupyter and ipywidgets. See https://ipywidgets.readthedocs.io/en/stable/user_install.html\n",
      "  from .autonotebook import tqdm as notebook_tqdm\n"
     ]
    }
   ],
   "source": [
    "import pandas as pd\n",
    "from gdc_utils import get_gdc_data\n",
    "from value_matcher import TFIDFMatcher, EmbeddingMatcher, EditMatcher, LLMMatcher\n",
    "from value_matcher_interface import MatcherInterface"
   ]
  },
  {
   "cell_type": "code",
   "execution_count": 2,
   "id": "547a29ca-0c89-4f27-93f1-78b4db9ec766",
   "metadata": {},
   "outputs": [],
   "source": [
    "column_mapping = {\n",
    "    #\"Proteomics_Participant_ID\": \"case_submitter_id\",\n",
    "    \"Age\": \"age_at_diagnosis\",\n",
    "    \"Gender\": \"gender\",\n",
    "    \"Race\": \"race\",\n",
    "    \"Ethnicity\": \"ethnicity\",\n",
    "    #\"(none)\": \"(none)\",\n",
    "    \"Histologic_Grade_FIGO\": \"tumor_grade\",\n",
    "    \"tumor_Stage-Pathological\": \"ajcc_pathologic_stage\",\n",
    "    \"Path_Stage_Reg_Lymph_Nodes-pN\": \"ajcc_pathologic_n\",\n",
    "    \"Path_Stage_Primary_Tumor-pT\": \"ajcc_pathologic_t\",\n",
    "    \"Tumor_Focality\": \"tumor_focality\",\n",
    "    \"Tumor_Size_cm\": \"tumor_largest_dimension_diameter\",\n",
    "    \"Tumor_Site\": \"tissue_or_organ_of_origin\",\n",
    "    \"Histologic_type\": \"morphology\",\n",
    "    #\"Case_excluded\": \"(none)\"\n",
    "}\n",
    "\n",
    "gdc_data = get_gdc_data(column_mapping.values())\n",
    "dataset = pd.read_csv('../data/use_case1/dou.csv')\n",
    "dataset = dataset[column_mapping.keys()]"
   ]
  },
  {
   "cell_type": "markdown",
   "id": "d16d516d-b3f2-4b75-9375-dda0b1709b54",
   "metadata": {},
   "source": [
    "### Dataset"
   ]
  },
  {
   "cell_type": "code",
   "execution_count": 3,
   "id": "5390990f-9cf3-4cda-aa0f-8a0906667141",
   "metadata": {},
   "outputs": [
    {
     "data": {
      "text/html": [
       "<div>\n",
       "<style scoped>\n",
       "    .dataframe tbody tr th:only-of-type {\n",
       "        vertical-align: middle;\n",
       "    }\n",
       "\n",
       "    .dataframe tbody tr th {\n",
       "        vertical-align: top;\n",
       "    }\n",
       "\n",
       "    .dataframe thead th {\n",
       "        text-align: right;\n",
       "    }\n",
       "</style>\n",
       "<table border=\"1\" class=\"dataframe\">\n",
       "  <thead>\n",
       "    <tr style=\"text-align: right;\">\n",
       "      <th></th>\n",
       "      <th>Age</th>\n",
       "      <th>Gender</th>\n",
       "      <th>Race</th>\n",
       "      <th>Ethnicity</th>\n",
       "      <th>Histologic_Grade_FIGO</th>\n",
       "      <th>tumor_Stage-Pathological</th>\n",
       "      <th>Path_Stage_Reg_Lymph_Nodes-pN</th>\n",
       "      <th>Path_Stage_Primary_Tumor-pT</th>\n",
       "      <th>Tumor_Focality</th>\n",
       "      <th>Tumor_Size_cm</th>\n",
       "      <th>Tumor_Site</th>\n",
       "      <th>Histologic_type</th>\n",
       "    </tr>\n",
       "  </thead>\n",
       "  <tbody>\n",
       "    <tr>\n",
       "      <th>0</th>\n",
       "      <td>64.0</td>\n",
       "      <td>Female</td>\n",
       "      <td>White</td>\n",
       "      <td>Not-Hispanic or Latino</td>\n",
       "      <td>FIGO grade 1</td>\n",
       "      <td>Stage I</td>\n",
       "      <td>pN0</td>\n",
       "      <td>pT1a (FIGO IA)</td>\n",
       "      <td>Unifocal</td>\n",
       "      <td>2.9</td>\n",
       "      <td>Anterior endometrium</td>\n",
       "      <td>Endometrioid</td>\n",
       "    </tr>\n",
       "    <tr>\n",
       "      <th>1</th>\n",
       "      <td>58.0</td>\n",
       "      <td>Female</td>\n",
       "      <td>White</td>\n",
       "      <td>Not-Hispanic or Latino</td>\n",
       "      <td>FIGO grade 1</td>\n",
       "      <td>Stage IV</td>\n",
       "      <td>pNX</td>\n",
       "      <td>pT1a (FIGO IA)</td>\n",
       "      <td>Unifocal</td>\n",
       "      <td>3.5</td>\n",
       "      <td>Posterior endometrium</td>\n",
       "      <td>Endometrioid</td>\n",
       "    </tr>\n",
       "    <tr>\n",
       "      <th>2</th>\n",
       "      <td>50.0</td>\n",
       "      <td>Female</td>\n",
       "      <td>White</td>\n",
       "      <td>Not-Hispanic or Latino</td>\n",
       "      <td>FIGO grade 2</td>\n",
       "      <td>Stage I</td>\n",
       "      <td>pN0</td>\n",
       "      <td>pT1a (FIGO IA)</td>\n",
       "      <td>Unifocal</td>\n",
       "      <td>4.5</td>\n",
       "      <td>Other, specify</td>\n",
       "      <td>Endometrioid</td>\n",
       "    </tr>\n",
       "    <tr>\n",
       "      <th>3</th>\n",
       "      <td>NaN</td>\n",
       "      <td>NaN</td>\n",
       "      <td>NaN</td>\n",
       "      <td>NaN</td>\n",
       "      <td>NaN</td>\n",
       "      <td>NaN</td>\n",
       "      <td>NaN</td>\n",
       "      <td>NaN</td>\n",
       "      <td>NaN</td>\n",
       "      <td>NaN</td>\n",
       "      <td>NaN</td>\n",
       "      <td>Carcinosarcoma</td>\n",
       "    </tr>\n",
       "    <tr>\n",
       "      <th>4</th>\n",
       "      <td>75.0</td>\n",
       "      <td>Female</td>\n",
       "      <td>White</td>\n",
       "      <td>Not-Hispanic or Latino</td>\n",
       "      <td>FIGO grade 2</td>\n",
       "      <td>Stage I</td>\n",
       "      <td>pNX</td>\n",
       "      <td>pT1a (FIGO IA)</td>\n",
       "      <td>Unifocal</td>\n",
       "      <td>3.5</td>\n",
       "      <td>Other, specify</td>\n",
       "      <td>Endometrioid</td>\n",
       "    </tr>\n",
       "  </tbody>\n",
       "</table>\n",
       "</div>"
      ],
      "text/plain": [
       "    Age  Gender   Race               Ethnicity Histologic_Grade_FIGO  \\\n",
       "0  64.0  Female  White  Not-Hispanic or Latino          FIGO grade 1   \n",
       "1  58.0  Female  White  Not-Hispanic or Latino          FIGO grade 1   \n",
       "2  50.0  Female  White  Not-Hispanic or Latino          FIGO grade 2   \n",
       "3   NaN     NaN    NaN                     NaN                   NaN   \n",
       "4  75.0  Female  White  Not-Hispanic or Latino          FIGO grade 2   \n",
       "\n",
       "  tumor_Stage-Pathological Path_Stage_Reg_Lymph_Nodes-pN  \\\n",
       "0                  Stage I                           pN0   \n",
       "1                 Stage IV                           pNX   \n",
       "2                  Stage I                           pN0   \n",
       "3                      NaN                           NaN   \n",
       "4                  Stage I                           pNX   \n",
       "\n",
       "  Path_Stage_Primary_Tumor-pT Tumor_Focality  Tumor_Size_cm  \\\n",
       "0              pT1a (FIGO IA)       Unifocal            2.9   \n",
       "1              pT1a (FIGO IA)       Unifocal            3.5   \n",
       "2              pT1a (FIGO IA)       Unifocal            4.5   \n",
       "3                         NaN            NaN            NaN   \n",
       "4              pT1a (FIGO IA)       Unifocal            3.5   \n",
       "\n",
       "              Tumor_Site Histologic_type  \n",
       "0   Anterior endometrium    Endometrioid  \n",
       "1  Posterior endometrium    Endometrioid  \n",
       "2         Other, specify    Endometrioid  \n",
       "3                    NaN  Carcinosarcoma  \n",
       "4         Other, specify    Endometrioid  "
      ]
     },
     "execution_count": 3,
     "metadata": {},
     "output_type": "execute_result"
    }
   ],
   "source": [
    "dataset.head()"
   ]
  },
  {
   "cell_type": "markdown",
   "id": "243cff4b-02b0-4b49-9ad6-cde12cb36774",
   "metadata": {},
   "source": [
    "### Dataset Values"
   ]
  },
  {
   "cell_type": "code",
   "execution_count": 4,
   "id": "ba12b34d-d951-4102-94a6-69098b2f15a8",
   "metadata": {},
   "outputs": [
    {
     "data": {
      "image/png": "[encoded data removed]",
      "text/plain": [
       "<Figure size 1000x600 with 1 Axes>"
      ]
     },
     "metadata": {},
     "output_type": "display_data"
    }
   ],
   "source": [
    "matcher = EditMatcher()#EmbeddingMatcher()#TFIDFMatcher()\n",
    "matcher_interface = MatcherInterface(matcher, dataset, column_mapping, gdc_data)\n",
    "matcher_interface.plot_unique_values()"
   ]
  },
  {
   "cell_type": "markdown",
   "id": "7e6d1aa1-8704-4459-9bd1-5145da4ea112",
   "metadata": {},
   "source": [
    "### Mappings Comparison"
   ]
  },
  {
   "cell_type": "markdown",
   "id": "91c467f1-20e8-44b0-b78f-5616849f0194",
   "metadata": {
    "jp-MarkdownHeadingCollapsed": true
   },
   "source": [
    "#### Edit Distance Matcher"
   ]
  },
  {
   "cell_type": "code",
   "execution_count": 13,
   "id": "ae748b18-4316-4e4a-90ac-572504f66dc6",
   "metadata": {},
   "outputs": [
    {
     "name": "stdout",
     "output_type": "stream",
     "text": [
      "Column tumor_Stage-Pathological: 80.00%\n",
      "Column Histologic_Grade_FIGO: 75.00%\n",
      "Column Tumor_Focality: 66.67%\n",
      "Column Gender: 50.00%\n",
      "Column Ethnicity: 50.00%\n",
      "Column Tumor_Site: 50.00%\n",
      "Column Race: 40.00%\n",
      "Column Path_Stage_Reg_Lymph_Nodes-pN: 40.00%\n",
      "Column Histologic_type: 20.00%\n",
      "Column Path_Stage_Primary_Tumor-pT: 14.29%\n",
      "Column Age: 0.00%\n",
      "Column Tumor_Size_cm: 0.00%\n",
      "Total: 40.50%\n"
     ]
    }
   ],
   "source": [
    "matcher_interface.calculate_coverage()"
   ]
  },
  {
   "cell_type": "code",
   "execution_count": 14,
   "id": "fb67fc10-276f-4db0-b9c0-6ac309de3033",
   "metadata": {},
   "outputs": [
    {
     "name": "stdout",
     "output_type": "stream",
     "text": [
      "Column Age:\n",
      "Column Gender:\n",
      "| Current Value   | Target Value   |   Similarity |\n",
      "|-----------------+----------------+--------------|\n",
      "| Female          | female         |            1 | \n",
      "\n",
      "Column Race:\n",
      "| Current Value             | Target Value              |   Similarity |\n",
      "|---------------------------+---------------------------+--------------|\n",
      "| Black or African American | black or african american |     1        |\n",
      "| Not Reported              | not reported              |     0.877193 | \n",
      "\n",
      "Column Ethnicity:\n",
      "| Current Value          | Target Value           |   Similarity |\n",
      "|------------------------+------------------------+--------------|\n",
      "| Hispanic or Latino     | hispanic or latino     |     1        |\n",
      "| Not-Hispanic or Latino | not hispanic or latino |     0.882775 | \n",
      "\n",
      "Column Histologic_Grade_FIGO:\n",
      "| Current Value   | Target Value   |   Similarity |\n",
      "|-----------------+----------------+--------------|\n",
      "| FIGO grade 3    | Low Grade      |            1 |\n",
      "| FIGO grade 1    | Low Grade      |            1 |\n",
      "| FIGO grade 2    | Low Grade      |            1 | \n",
      "\n",
      "Column tumor_Stage-Pathological:\n",
      "| Current Value   | Target Value   |   Similarity |\n",
      "|-----------------+----------------+--------------|\n",
      "| Stage III       | Stage III      |            1 |\n",
      "| Stage IV        | Stage IV       |            1 |\n",
      "| Stage I         | Stage I        |            1 |\n",
      "| Stage II        | Stage II       |            1 | \n",
      "\n",
      "Column Path_Stage_Reg_Lymph_Nodes-pN:\n",
      "| Current Value   | Target Value   |   Similarity |\n",
      "|-----------------+----------------+--------------|\n",
      "| pN0             | N0             |            1 |\n",
      "| pNX             | NX             |            1 | \n",
      "\n",
      "Column Path_Stage_Primary_Tumor-pT:\n",
      "| Current Value   | Target Value   |   Similarity |\n",
      "|-----------------+----------------+--------------|\n",
      "| pT1 (FIGO I)    | Tis (DCIS)     |            1 | \n",
      "\n",
      "Column Tumor_Focality:\n",
      "| Current Value   | Target Value   |   Similarity |\n",
      "|-----------------+----------------+--------------|\n",
      "| Unifocal        | Unifocal       |            1 |\n",
      "| Multifocal      | Multifocal     |            1 | \n",
      "\n",
      "Column Tumor_Size_cm:\n",
      "Column Tumor_Site:\n",
      "| Current Value         | Target Value          |   Similarity |\n",
      "|-----------------------+-----------------------+--------------|\n",
      "| Posterior endometrium | Posterior mediastinum |     1        |\n",
      "| Anterior endometrium  | Anterior mediastinum  |     0.960366 | \n",
      "\n",
      "Column Histologic_type:\n",
      "|   Current Value | Target Value   |   Similarity |\n",
      "|-----------------+----------------+--------------|\n",
      "|             nan | Unknown        |            1 | \n",
      "\n"
     ]
    }
   ],
   "source": [
    "matcher_interface.match_values()"
   ]
  },
  {
   "cell_type": "markdown",
   "id": "fd503351-7bf0-44e9-9b95-67b9594adbe2",
   "metadata": {
    "jp-MarkdownHeadingCollapsed": true
   },
   "source": [
    "#### TFIDF Matcher"
   ]
  },
  {
   "cell_type": "code",
   "execution_count": 9,
   "id": "2e4e17d7-5fad-4331-97fb-96ca51f0a81f",
   "metadata": {},
   "outputs": [
    {
     "name": "stdout",
     "output_type": "stream",
     "text": [
      "Column Race: 80.00%\n",
      "Column tumor_Stage-Pathological: 80.00%\n",
      "Column Tumor_Focality: 66.67%\n",
      "Column Gender: 50.00%\n",
      "Column Ethnicity: 50.00%\n",
      "Column Tumor_Site: 50.00%\n",
      "Column Age: 0.00%\n",
      "Column Histologic_Grade_FIGO: 0.00%\n",
      "Column Path_Stage_Reg_Lymph_Nodes-pN: 0.00%\n",
      "Column Path_Stage_Primary_Tumor-pT: 0.00%\n",
      "Column Tumor_Size_cm: 0.00%\n",
      "Column Histologic_type: 0.00%\n",
      "Total: 31.39%\n"
     ]
    }
   ],
   "source": [
    "matcher_interface.calculate_coverage()"
   ]
  },
  {
   "cell_type": "code",
   "execution_count": 10,
   "id": "128f8762-5aed-4fdd-84e4-c3e96c59d09d",
   "metadata": {},
   "outputs": [
    {
     "name": "stdout",
     "output_type": "stream",
     "text": [
      "Column Age:\n",
      "Column Gender:\n",
      "| Current Value   | Target Value   |   Similarity |\n",
      "|-----------------+----------------+--------------|\n",
      "| Female          | female         |            1 | \n",
      "\n",
      "Column Race:\n",
      "| Current Value             | Target Value              |   Similarity |\n",
      "|---------------------------+---------------------------+--------------|\n",
      "| Black or African American | black or african american |            1 |\n",
      "| Asian                     | asian                     |            1 |\n",
      "| Not Reported              | not reported              |            1 |\n",
      "| White                     | white                     |            1 | \n",
      "\n",
      "Column Ethnicity:\n",
      "| Current Value          | Target Value           |   Similarity |\n",
      "|------------------------+------------------------+--------------|\n",
      "| Hispanic or Latino     | hispanic or latino     |        1     |\n",
      "| Not-Hispanic or Latino | not hispanic or latino |        0.816 | \n",
      "\n",
      "Column Histologic_Grade_FIGO:\n",
      "Column tumor_Stage-Pathological:\n",
      "| Current Value   | Target Value   |   Similarity |\n",
      "|-----------------+----------------+--------------|\n",
      "| Stage III       | Stage III      |            1 |\n",
      "| Stage IV        | Stage 0        |            1 |\n",
      "| Stage I         | Stage 0        |            1 |\n",
      "| Stage II        | Stage 0        |            1 | \n",
      "\n",
      "Column Path_Stage_Reg_Lymph_Nodes-pN:\n",
      "Column Path_Stage_Primary_Tumor-pT:\n",
      "Column Tumor_Focality:\n",
      "| Current Value   | Target Value   |   Similarity |\n",
      "|-----------------+----------------+--------------|\n",
      "| Unifocal        | Unifocal       |            1 |\n",
      "| Multifocal      | Multifocal     |            1 | \n",
      "\n",
      "Column Tumor_Size_cm:\n",
      "Column Tumor_Site:\n",
      "| Current Value         | Target Value   |   Similarity |\n",
      "|-----------------------+----------------+--------------|\n",
      "| Anterior endometrium  | Endometrium    |        0.827 |\n",
      "| Posterior endometrium | Endometrium    |        0.801 | \n",
      "\n",
      "Column Histologic_type:\n"
     ]
    }
   ],
   "source": [
    "matcher_interface.match_values()"
   ]
  },
  {
   "cell_type": "markdown",
   "id": "e82d9056-fab6-480f-8399-cfffaa934bff",
   "metadata": {
    "jp-MarkdownHeadingCollapsed": true
   },
   "source": [
    "#### Embedding Matcher"
   ]
  },
  {
   "cell_type": "code",
   "execution_count": 6,
   "id": "5009694f-972f-43c8-88ff-8aa65945a17c",
   "metadata": {},
   "outputs": [
    {
     "name": "stdout",
     "output_type": "stream",
     "text": [
      "Column tumor_Stage-Pathological: 80.00%\n",
      "Column Tumor_Focality: 66.67%\n",
      "Column Gender: 50.00%\n",
      "Column Age: 0.00%\n",
      "Column Race: 0.00%\n",
      "Column Ethnicity: 0.00%\n",
      "Column Histologic_Grade_FIGO: 0.00%\n",
      "Column Path_Stage_Reg_Lymph_Nodes-pN: 0.00%\n",
      "Column Path_Stage_Primary_Tumor-pT: 0.00%\n",
      "Column Tumor_Size_cm: 0.00%\n",
      "Column Tumor_Site: 0.00%\n",
      "Column Histologic_type: 0.00%\n",
      "Total: 16.39%\n"
     ]
    }
   ],
   "source": [
    "matcher_interface.calculate_coverage()"
   ]
  },
  {
   "cell_type": "code",
   "execution_count": 7,
   "id": "7e0e736f-4c45-4e40-aa81-76c02ff99ca7",
   "metadata": {},
   "outputs": [
    {
     "name": "stdout",
     "output_type": "stream",
     "text": [
      "Column Age:\n",
      "Column Gender:\n",
      "| Current Value   | Target Value   |   Similarity |\n",
      "|-----------------+----------------+--------------|\n",
      "| Female          | female         |        0.801 | \n",
      "\n",
      "Column Race:\n",
      "Column Ethnicity:\n",
      "Column Histologic_Grade_FIGO:\n",
      "Column tumor_Stage-Pathological:\n",
      "| Current Value   | Target Value   |   Similarity |\n",
      "|-----------------+----------------+--------------|\n",
      "| Stage III       | Stage III      |            1 |\n",
      "| Stage IV        | Stage IV       |            1 |\n",
      "| Stage I         | Stage I        |            1 |\n",
      "| Stage II        | Stage II       |            1 | \n",
      "\n",
      "Column Path_Stage_Reg_Lymph_Nodes-pN:\n",
      "Column Path_Stage_Primary_Tumor-pT:\n",
      "Column Tumor_Focality:\n",
      "| Current Value   | Target Value   |   Similarity |\n",
      "|-----------------+----------------+--------------|\n",
      "| Unifocal        | Unifocal       |            1 |\n",
      "| Multifocal      | Multifocal     |            1 | \n",
      "\n",
      "Column Tumor_Size_cm:\n",
      "Column Tumor_Site:\n",
      "Column Histologic_type:\n"
     ]
    }
   ],
   "source": [
    "matcher_interface.match_values()"
   ]
  },
  {
   "cell_type": "markdown",
   "id": "1afb27aa-0aac-410c-8c0b-bad3b0a1195b",
   "metadata": {},
   "source": [
    "#### LLM Matcher"
   ]
  },
  {
   "cell_type": "code",
   "execution_count": 5,
   "id": "95411482-2459-4b85-9550-57227be01162",
   "metadata": {},
   "outputs": [],
   "source": [
    "matcher = LLMMatcher()\n",
    "matcher_interface = MatcherInterface(matcher, dataset, column_mapping, gdc_data)"
   ]
  },
  {
   "cell_type": "code",
   "execution_count": 6,
   "id": "24195849-bbea-4bd4-93f4-acee88476a96",
   "metadata": {},
   "outputs": [
    {
     "name": "stdout",
     "output_type": "stream",
     "text": [
      "Column Gender: 100.00%\n",
      "Column Race: 100.00%\n",
      "Column tumor_Stage-Pathological: 100.00%\n",
      "Column Path_Stage_Reg_Lymph_Nodes-pN: 100.00%\n",
      "Column Path_Stage_Primary_Tumor-pT: 100.00%\n",
      "Column Tumor_Focality: 100.00%\n",
      "Column Histologic_type: 80.00%\n",
      "Column Ethnicity: 75.00%\n",
      "Column Histologic_Grade_FIGO: 75.00%\n",
      "Column Tumor_Site: 75.00%\n",
      "Column Age: 0.00%\n",
      "Column Tumor_Size_cm: 0.00%\n",
      "Total: 75.42%\n"
     ]
    }
   ],
   "source": [
    "matcher_interface.calculate_coverage()"
   ]
  },
  {
   "cell_type": "code",
   "execution_count": 7,
   "id": "1e018f42-7c24-4f61-a674-01547f67d06d",
   "metadata": {},
   "outputs": [
    {
     "name": "stdout",
     "output_type": "stream",
     "text": [
      "Column Age:\n",
      "Column Gender:\n",
      "| Current Value   | Target Value   |   Similarity |\n",
      "|-----------------+----------------+--------------|\n",
      "| Female          | female         |            1 |\n",
      "| nan             | not reported   |            0 | \n",
      "\n",
      "Column Race:\n",
      "| Current Value             | Target Value              |   Similarity |\n",
      "|---------------------------+---------------------------+--------------|\n",
      "| Not Reported              | Not Reported              |            1 |\n",
      "| White                     | White                     |            1 |\n",
      "| Black or African American | Black or African American |            1 |\n",
      "| nan                       | nan                       |            1 |\n",
      "| Asian                     | Asian                     |            1 | \n",
      "\n",
      "Column Ethnicity:\n",
      "| Current Value          | Target Value           |   Similarity |\n",
      "|------------------------+------------------------+--------------|\n",
      "| Not-Hispanic or Latino | Not-Hispanic or Latino |         1    |\n",
      "| Not reported           | Not Reported           |         0.86 |\n",
      "| nan                    | Not Reported           |         0.57 |\n",
      "| Hispanic or Latino     | Hispanic or Latino     |         1    | \n",
      "\n",
      "Column Histologic_Grade_FIGO:\n",
      "| Current Value   | Target Value   |   Similarity |\n",
      "|-----------------+----------------+--------------|\n",
      "| FIGO grade 3    | G3             |          0.5 |\n",
      "| nan             | Unknown        |          0   |\n",
      "| FIGO grade 2    | G2             |          0.5 |\n",
      "| FIGO grade 1    | G1             |          0.5 | \n",
      "\n",
      "Column tumor_Stage-Pathological:\n",
      "| Current Value   | Target Value   |   Similarity |\n",
      "|-----------------+----------------+--------------|\n",
      "| Stage I         | Stage I        |            1 |\n",
      "| Stage II        | Stage II       |            1 |\n",
      "| Stage III       | Stage III      |            1 |\n",
      "| Stage IV        | Stage IV       |            1 |\n",
      "| nan             | not reported   |            0 | \n",
      "\n",
      "Column Path_Stage_Reg_Lymph_Nodes-pN:\n",
      "| Current Value    | Target Value   |   Similarity |\n",
      "|------------------+----------------+--------------|\n",
      "| pN1 (FIGO IIIC1) | pN1            |         0.71 |\n",
      "| pNX              | pNX            |         1    |\n",
      "| pN0              | pN0            |         1    |\n",
      "| pN2 (FIGO IIIC2) | pN2            |         0.71 |\n",
      "| nan              |                |         0    | \n",
      "\n",
      "Column Path_Stage_Primary_Tumor-pT:\n",
      "| Current Value    | Target Value   |\n",
      "|------------------+----------------|\n",
      "| pT1b (FIGO IB)   | IB             |\n",
      "| pT1 (FIGO I)     | I              |\n",
      "| pT3a (FIGO IIIA) | IIIA           |\n",
      "| pT3b (FIGO IIIB) | IIIB           |\n",
      "| pT2 (FIGO II)    | II             |\n",
      "| nan              | NA             |\n",
      "| pT1a (FIGO IA)   | IA             | \n",
      "\n",
      "Column Tumor_Focality:\n",
      "| Current Value   | Target Value   |   Similarity |\n",
      "|-----------------+----------------+--------------|\n",
      "| Multifocal      | multifocal     |          0.8 |\n",
      "| nan             | not reported   |          0   |\n",
      "| Unifocal        | unifocal       |          0.8 | \n",
      "\n",
      "Column Tumor_Size_cm:\n",
      "Column Tumor_Site:\n",
      "| Current Value         | Target Value          |   Similarity |\n",
      "|-----------------------+-----------------------+--------------|\n",
      "| Other, specify        | Other                 |          0.5 |\n",
      "| Anterior endometrium  | Anterior endometrium  |          1   |\n",
      "| Posterior endometrium | Posterior endometrium |          1   | \n",
      "\n",
      "Column Histologic_type:\n",
      "| Current Value   | Target Value   |   Similarity |\n",
      "|-----------------+----------------+--------------|\n",
      "| Serous          | Serous         |          1   |\n",
      "| Endometrioid    | Endometrioid   |          1   |\n",
      "| Clear cell      | Clear cell     |          1   |\n",
      "| Carcinosarcoma  | Carcinosarcoma |          1   |\n",
      "| nan             | Not Reported   |          0.4 | \n",
      "\n"
     ]
    }
   ],
   "source": [
    "matcher_interface.match_values()"
   ]
  },
  {
   "cell_type": "code",
   "execution_count": null,
   "id": "2b2e044c-1c86-42d1-b149-90c5e5011ff8",
   "metadata": {},
   "outputs": [],
   "source": []
  },
  {
   "cell_type": "code",
   "execution_count": null,
   "id": "939b8798-1ed5-48a8-8fed-148e14a3d3e6",
   "metadata": {},
   "outputs": [],
   "source": []
  }
 ],
 "metadata": {
  "kernelspec": {
   "display_name": "Python 3 (ipykernel)",
   "language": "python",
   "name": "python3"
  },
  "language_info": {
   "codemirror_mode": {
    "name": "ipython",
    "version": 3
   },
   "file_extension": ".py",
   "mimetype": "text/x-python",
   "name": "python",
   "nbconvert_exporter": "python",
   "pygments_lexer": "ipython3",
   "version": "3.10.13"
  }
 },
 "nbformat": 4,
 "nbformat_minor": 5
}
